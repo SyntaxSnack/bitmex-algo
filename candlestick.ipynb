{
 "cells": [
  {
   "cell_type": "code",
   "execution_count": 470,
   "metadata": {},
   "outputs": [
    {
     "name": "stderr",
     "output_type": "stream",
     "text": [
      "C:\\Users\\eyese\\.julia\\conda\\3\\lib\\site-packages\\ipykernel_launcher.py:6: DeprecationWarning: The default dtype for empty Series will be 'object' instead of 'float64' in a future version. Specify a dtype explicitly to silence this warning.\n",
      "  \n"
     ]
    },
    {
     "ename": "NameError",
     "evalue": "name 'threshold' is not defined",
     "output_type": "error",
     "traceback": [
      "\u001b[1;31m---------------------------------------------------------------------------\u001b[0m",
      "\u001b[1;31mNameError\u001b[0m                                 Traceback (most recent call last)",
      "\u001b[1;32m<ipython-input-470-1856f0635e39>\u001b[0m in \u001b[0;36m<module>\u001b[1;34m\u001b[0m\n\u001b[0;32m     69\u001b[0m \u001b[1;33m\u001b[0m\u001b[0m\n\u001b[0;32m     70\u001b[0m \u001b[1;31m#\u001b[0m\u001b[1;33m\u001b[0m\u001b[1;33m\u001b[0m\u001b[1;33m\u001b[0m\u001b[0m\n\u001b[1;32m---> 71\u001b[1;33m \u001b[0mtestdata\u001b[0m\u001b[1;33m(\u001b[0m\u001b[1;33m)\u001b[0m\u001b[1;33m\u001b[0m\u001b[1;33m\u001b[0m\u001b[0m\n\u001b[0m",
      "\u001b[1;32m<ipython-input-470-1856f0635e39>\u001b[0m in \u001b[0;36mtestdata\u001b[1;34m(candleamount, thresholds, D)\u001b[0m\n\u001b[0;32m     57\u001b[0m     \u001b[1;32mif\u001b[0m \u001b[0mD\u001b[0m\u001b[1;33m==\u001b[0m\u001b[1;36m0\u001b[0m \u001b[1;32mor\u001b[0m \u001b[0mD\u001b[0m\u001b[1;33m==\u001b[0m\u001b[1;36m2\u001b[0m\u001b[1;33m:\u001b[0m\u001b[1;33m\u001b[0m\u001b[1;33m\u001b[0m\u001b[0m\n\u001b[0;32m     58\u001b[0m         \u001b[0mbtdata\u001b[0m\u001b[1;33m[\u001b[0m\u001b[0mcandleamount\u001b[0m\u001b[1;33m,\u001b[0m \u001b[0mthresholds\u001b[0m\u001b[1;33m[\u001b[0m\u001b[1;36m0\u001b[0m\u001b[1;33m]\u001b[0m\u001b[1;33m]\u001b[0m \u001b[1;33m=\u001b[0m \u001b[0mbacktest\u001b[0m\u001b[1;33m(\u001b[0m\u001b[1;36m50\u001b[0m\u001b[1;33m,\u001b[0m \u001b[1;36m.1\u001b[0m\u001b[1;33m)\u001b[0m\u001b[1;33m\u001b[0m\u001b[1;33m\u001b[0m\u001b[0m\n\u001b[1;32m---> 59\u001b[1;33m         \u001b[0mbtdata\u001b[0m\u001b[1;33m[\u001b[0m\u001b[0mcandleamount\u001b[0m\u001b[1;33m,\u001b[0m \u001b[0mthreshold\u001b[0m\u001b[1;33m[\u001b[0m\u001b[1;36m1\u001b[0m\u001b[1;33m]\u001b[0m\u001b[1;33m]\u001b[0m \u001b[1;33m=\u001b[0m \u001b[0mbacktest\u001b[0m\u001b[1;33m(\u001b[0m\u001b[1;36m50\u001b[0m\u001b[1;33m,\u001b[0m \u001b[1;36m.25\u001b[0m\u001b[1;33m)\u001b[0m\u001b[1;33m\u001b[0m\u001b[1;33m\u001b[0m\u001b[0m\n\u001b[0m\u001b[0;32m     60\u001b[0m         \u001b[0mbtdata\u001b[0m\u001b[1;33m[\u001b[0m\u001b[0mcandleamount\u001b[0m\u001b[1;33m,\u001b[0m \u001b[0mthreshold\u001b[0m\u001b[1;33m[\u001b[0m\u001b[1;36m2\u001b[0m\u001b[1;33m]\u001b[0m\u001b[1;33m]\u001b[0m \u001b[1;33m=\u001b[0m \u001b[0mbacktest\u001b[0m\u001b[1;33m(\u001b[0m\u001b[1;36m50\u001b[0m\u001b[1;33m,\u001b[0m \u001b[1;36m.5\u001b[0m\u001b[1;33m)\u001b[0m\u001b[1;33m\u001b[0m\u001b[1;33m\u001b[0m\u001b[0m\n\u001b[0;32m     61\u001b[0m         \u001b[0mbtdata\u001b[0m\u001b[1;33m[\u001b[0m\u001b[0mcandleamount\u001b[0m\u001b[1;33m,\u001b[0m \u001b[0mthreshold\u001b[0m\u001b[1;33m[\u001b[0m\u001b[1;36m3\u001b[0m\u001b[1;33m]\u001b[0m\u001b[1;33m]\u001b[0m \u001b[1;33m=\u001b[0m \u001b[0mbacktest\u001b[0m\u001b[1;33m(\u001b[0m\u001b[1;36m50\u001b[0m\u001b[1;33m,\u001b[0m \u001b[1;36m1\u001b[0m\u001b[1;33m)\u001b[0m\u001b[1;33m\u001b[0m\u001b[1;33m\u001b[0m\u001b[0m\n",
      "\u001b[1;31mNameError\u001b[0m: name 'threshold' is not defined"
     ]
    }
   ],
   "source": [
    "import pandas as pd\n",
    "import numpy as np\n",
    "\n",
    "#VARIABLES AND DATA\n",
    "candles = pd.read_csv(\"XBTUSD-1m-data.csv\")\n",
    "candle = pd.Series()\n",
    "    \n",
    "def candleseries(candleamount):\n",
    "    # iterate over rows with iterrows()\n",
    "    for index, data in candles.head(candleamount).iterrows():\n",
    "        #determine if candles are of opposite type\n",
    "        if data['open'] < data['close']:\n",
    "            type = \"green\"\n",
    "        elif data['open'] > data['close']:\n",
    "            type = \"red\"\n",
    "        else:\n",
    "            type = \"abs_doji\"\n",
    "     #append size\n",
    "        size = [data['open'], data['close'], abs(data['open']-data['close']), type]\n",
    "        candle.at[index] = size\n",
    "\n",
    "#realtime func\n",
    "def tradesignal(i = -1, candleamount = 500, threshold = 1, ignoredoji = False):\n",
    "    if candle.iloc[i][2] == candle.iloc[i-1][2]:\n",
    "        return(\"WAIT\")\n",
    "    elif (candle.iloc[i][2] * threshold) > (candle.iloc[i-1][2]) and (ignoredoji == False or candle.iloc[i-1][2] > 1):\n",
    "        if candle.iloc[i][3] == \"red\":\n",
    "            return(\"SELL\")\n",
    "        elif candle.iloc[i][3] == \"green\":\n",
    "            return(\"BUY\")\n",
    "        else: return(\"WAIT\")\n",
    "    else:\n",
    "        return(\"WAIT\")\n",
    "\n",
    "#back-test on the series extrapolated from price data\n",
    "def backtest(candleamount, threshold=1, ignoredoji=False):\n",
    "    #first generate a candle-series!\n",
    "    candleseries(candleamount)\n",
    "    #generate index series for all candles except for the oldest one (no prev candle for it!)\n",
    "    cseries = iter(candle.index[::-1])\n",
    "    next(cseries)\n",
    "    #list to store signals in for easier display\n",
    "    signals=[]\n",
    "    #generate a trade signal for every candle except for the last, and store in the list we created\n",
    "    for i in cseries:\n",
    "        i = -1*(i)\n",
    "        signals.append(tradesignal(i, candleamount, threshold, ignoredoji))\n",
    "    return(signals)\n",
    "\n",
    "#run the back-test function\n",
    "#store into data-frame to compare w/ different engulf parameters\n",
    "#D=0: including DOJIs in back-test data\n",
    "#D=1: excluding DOJIs in back-test data\n",
    "#D=2: both inc and exc in back-test data\n",
    "def testdata(candleamount=500, thresholds=[.1,.25,.5, 1], D=2):\n",
    "    btdata = pd.DataFrame()\n",
    "    if D==0 or D==2:    \n",
    "        btdata[candleamount, thresholds[0]] = backtest(50, .1)\n",
    "        btdata[candleamount, threshold[1]] = backtest(50, .25)\n",
    "        btdata[candleamount, threshold[2]] = backtest(50, .5)\n",
    "        btdata[candleamount, threshold[3]] = backtest(50, 1)\n",
    "    if D==1 or D==2:\n",
    "        btdata[candleamount, threshold[0]] = backtest(50, .1, True)\n",
    "        btdata[candleamount, threshold[1]] = backtest(50, .25, True)\n",
    "        btdata[candleamount, threshold[2]] = backtest(50, .5, True)\n",
    "        btdata[candleamount, threshold[3]] = backtest(50, 1, True)\n",
    "    print(\"Hey\")\n",
    "    print(btdata)\n",
    "\n",
    "#\n",
    "testdata()"
   ]
  },
  {
   "cell_type": "code",
   "execution_count": null,
   "metadata": {},
   "outputs": [],
   "source": []
  },
  {
   "cell_type": "code",
   "execution_count": null,
   "metadata": {},
   "outputs": [],
   "source": []
  }
 ],
 "metadata": {
  "kernelspec": {
   "display_name": "Python 3",
   "language": "python",
   "name": "python3"
  },
  "language_info": {
   "codemirror_mode": {
    "name": "ipython",
    "version": 3
   },
   "file_extension": ".py",
   "mimetype": "text/x-python",
   "name": "python",
   "nbconvert_exporter": "python",
   "pygments_lexer": "ipython3",
   "version": "3.7.6"
  }
 },
 "nbformat": 4,
 "nbformat_minor": 4
}
